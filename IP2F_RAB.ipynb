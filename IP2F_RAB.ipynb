{
 "cells": [
  {
   "cell_type": "markdown",
   "id": "dda0c442",
   "metadata": {},
   "source": [
    "# Reese Bottorff"
   ]
  },
  {
   "cell_type": "markdown",
   "id": "2f4887ea",
   "metadata": {},
   "source": [
    "## Assignment 8"
   ]
  },
  {
   "cell_type": "markdown",
   "id": "973166a4",
   "metadata": {},
   "source": [
    "### CS-150"
   ]
  },
  {
   "cell_type": "code",
   "execution_count": 1,
   "id": "d8afade4",
   "metadata": {},
   "outputs": [],
   "source": [
    "import numpy as np\n",
    "Array=np.array([[10,20],[30,40]])"
   ]
  },
  {
   "cell_type": "code",
   "execution_count": 2,
   "id": "a2dbe944",
   "metadata": {},
   "outputs": [
    {
     "name": "stdout",
     "output_type": "stream",
     "text": [
      "[[ 100  400]\n",
      " [ 900 1600]]\n"
     ]
    }
   ],
   "source": [
    "Array_square=Array**2\n",
    "print(Array_square)"
   ]
  },
  {
   "cell_type": "code",
   "execution_count": 4,
   "id": "9d02abf5",
   "metadata": {},
   "outputs": [
    {
     "name": "stdout",
     "output_type": "stream",
     "text": [
      "[[110 120]\n",
      " [130 140]]\n"
     ]
    }
   ],
   "source": [
    "Array_add=Array+100\n",
    "print(Array_add)"
   ]
  },
  {
   "cell_type": "code",
   "execution_count": 5,
   "id": "648b0327",
   "metadata": {},
   "outputs": [
    {
     "name": "stdout",
     "output_type": "stream",
     "text": [
      "[[ 50 100]\n",
      " [150 200]]\n"
     ]
    }
   ],
   "source": [
    "Array_multiply=Array*5\n",
    "print(Array_multiply)"
   ]
  },
  {
   "cell_type": "code",
   "execution_count": 7,
   "id": "549aea3e",
   "metadata": {},
   "outputs": [
    {
     "name": "stdout",
     "output_type": "stream",
     "text": [
      "[[3.16227766 4.47213595]\n",
      " [5.47722558 6.32455532]]\n"
     ]
    }
   ],
   "source": [
    "Array_sqrt=np.sqrt(Array)\n",
    "print(Array_sqrt)"
   ]
  },
  {
   "cell_type": "code",
   "execution_count": 8,
   "id": "8274592c",
   "metadata": {},
   "outputs": [
    {
     "name": "stdout",
     "output_type": "stream",
     "text": [
      "[[ 3  6  9]\n",
      " [12 15 18]\n",
      " [21 24 27]]\n"
     ]
    }
   ],
   "source": [
    "import numpy as np\n",
    "ar1=np.arange(3,30,3).reshape(3,3)\n",
    "print(ar1)"
   ]
  },
  {
   "cell_type": "code",
   "execution_count": 9,
   "id": "c5dee4a8",
   "metadata": {},
   "outputs": [
    {
     "name": "stdout",
     "output_type": "stream",
     "text": [
      "[[10.   11.25 12.5 ]\n",
      " [13.75 15.   16.25]\n",
      " [17.5  18.75 20.  ]]\n"
     ]
    }
   ],
   "source": [
    "ar2=np.linspace(10,20,9).reshape(3,3)\n",
    "print(ar2)"
   ]
  },
  {
   "cell_type": "code",
   "execution_count": 10,
   "id": "bf64227c",
   "metadata": {},
   "outputs": [
    {
     "name": "stdout",
     "output_type": "stream",
     "text": [
      "[[ 30.   67.5 112.5]\n",
      " [165.  225.  292.5]\n",
      " [367.5 450.  540. ]]\n"
     ]
    }
   ],
   "source": [
    "mult=ar1*ar2\n",
    "print(mult)"
   ]
  },
  {
   "cell_type": "code",
   "execution_count": 32,
   "id": "9939a71b",
   "metadata": {},
   "outputs": [
    {
     "data": {
      "text/plain": [
       "array([[52, 12, 81,  0, 58]], dtype=int32)"
      ]
     },
     "execution_count": 32,
     "metadata": {},
     "output_type": "execute_result"
    }
   ],
   "source": [
    "import numpy as np\n",
    "X=np.load('process1.npy')\n",
    "X"
   ]
  },
  {
   "cell_type": "code",
   "execution_count": 28,
   "id": "faa6c7b1",
   "metadata": {},
   "outputs": [
    {
     "data": {
      "text/plain": [
       "array([[96,  4, 61, 16, 43]], dtype=int32)"
      ]
     },
     "execution_count": 28,
     "metadata": {},
     "output_type": "execute_result"
    }
   ],
   "source": [
    "X1=np.load('process2.npy')\n",
    "X1"
   ]
  },
  {
   "cell_type": "code",
   "execution_count": 29,
   "id": "368882a8",
   "metadata": {},
   "outputs": [
    {
     "data": {
      "text/plain": [
       "array([[38, 96, 45, 17, 58]], dtype=int32)"
      ]
     },
     "execution_count": 29,
     "metadata": {},
     "output_type": "execute_result"
    }
   ],
   "source": [
    "X2=np.load('process3.npy')\n",
    "X2"
   ]
  },
  {
   "cell_type": "code",
   "execution_count": 30,
   "id": "7c72df60",
   "metadata": {},
   "outputs": [
    {
     "data": {
      "text/plain": [
       "array([[97, 21, 22, 25,  6]], dtype=int32)"
      ]
     },
     "execution_count": 30,
     "metadata": {},
     "output_type": "execute_result"
    }
   ],
   "source": [
    "X3=np.load('process4.npy')\n",
    "X3"
   ]
  },
  {
   "cell_type": "code",
   "execution_count": 31,
   "id": "8408ba21",
   "metadata": {},
   "outputs": [
    {
     "data": {
      "text/plain": [
       "array([[77,  6, 19,  2, 74]], dtype=int32)"
      ]
     },
     "execution_count": 31,
     "metadata": {},
     "output_type": "execute_result"
    }
   ],
   "source": [
    "X4=np.load('process5.npy')\n",
    "X4"
   ]
  },
  {
   "cell_type": "code",
   "execution_count": 33,
   "id": "7a6de72a",
   "metadata": {},
   "outputs": [],
   "source": [
    "array1=np.vstack([X,X1,X2,X3,X4])"
   ]
  },
  {
   "cell_type": "code",
   "execution_count": 34,
   "id": "3a660fac",
   "metadata": {},
   "outputs": [
    {
     "data": {
      "text/plain": [
       "array([[52, 12, 81,  0, 58],\n",
       "       [96,  4, 61, 16, 43],\n",
       "       [38, 96, 45, 17, 58],\n",
       "       [97, 21, 22, 25,  6],\n",
       "       [77,  6, 19,  2, 74]], dtype=int32)"
      ]
     },
     "execution_count": 34,
     "metadata": {},
     "output_type": "execute_result"
    }
   ],
   "source": [
    "array1"
   ]
  },
  {
   "cell_type": "code",
   "execution_count": 35,
   "id": "574d82bd",
   "metadata": {},
   "outputs": [
    {
     "data": {
      "text/plain": [
       "41.04"
      ]
     },
     "execution_count": 35,
     "metadata": {},
     "output_type": "execute_result"
    }
   ],
   "source": [
    "np.mean(array1)"
   ]
  }
 ],
 "metadata": {
  "kernelspec": {
   "display_name": "Python 3 (ipykernel)",
   "language": "python",
   "name": "python3"
  },
  "language_info": {
   "codemirror_mode": {
    "name": "ipython",
    "version": 3
   },
   "file_extension": ".py",
   "mimetype": "text/x-python",
   "name": "python",
   "nbconvert_exporter": "python",
   "pygments_lexer": "ipython3",
   "version": "3.9.13"
  }
 },
 "nbformat": 4,
 "nbformat_minor": 5
}
